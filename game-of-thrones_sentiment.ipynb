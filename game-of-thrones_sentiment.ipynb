{
 "cells": [
  {
   "cell_type": "markdown",
   "metadata": {},
   "source": [
    "# Game of Thrones (Book 1) Sentiment Analysis.\n",
    "### This book creates a basic chart and a statistical summary table"
   ]
  },
  {
   "cell_type": "code",
   "execution_count": null,
   "metadata": {
    "collapsed": false
   },
   "outputs": [],
   "source": [
    "# collections from the Standard Library\n",
    "import collections\n",
    "import logging\n",
    "\n",
    "# libepub (https://github.com/jharjono/libepub/) \n",
    "from libepub import book\n",
    "# pandas dataframe library (http://pandas.pydata.org/)\n",
    "import pandas as pd\n",
    "# Beautiful Soup (http://www.crummy.com/software/BeautifulSoup/)\n",
    "from bs4 import BeautifulSoup\n",
    "# TextBlob (http://textblob.readthedocs.org/en/dev/)\n",
    "from textblob import TextBlob\n",
    "# Bokeh plotting library (http://bokeh.pydata.org/en/latest/)\n",
    "from bokeh.io import output_notebook, show, save\n",
    "from bokeh.plotting import figure\n",
    "from bokeh.resources import CDN\n",
    "from bokeh.embed import file_html\n",
    "from bokeh.charts import Line"
   ]
  },
  {
   "cell_type": "code",
   "execution_count": null,
   "metadata": {
    "collapsed": false
   },
   "outputs": [],
   "source": [
    "output_notebook()"
   ]
  },
  {
   "cell_type": "markdown",
   "metadata": {},
   "source": [
    "**Load the book as an epub book**"
   ]
  },
  {
   "cell_type": "code",
   "execution_count": null,
   "metadata": {
    "collapsed": false,
    "scrolled": false
   },
   "outputs": [],
   "source": [
    "game_of_thrones = book.Book(r'books/game.epub')"
   ]
  },
  {
   "cell_type": "markdown",
   "metadata": {},
   "source": [
    "**Instantiate a BeautifulSoup objects, parse epub xml, and create an ordered dictionary of the book, with each entry being a chapter.  Keys to dictionary will be the page number of the first page of the chapter**"
   ]
  },
  {
   "cell_type": "code",
   "execution_count": null,
   "metadata": {
    "collapsed": false,
    "scrolled": true
   },
   "outputs": [],
   "source": [
    "book_dict = collections.OrderedDict()\n",
    "for chapter in game_of_thrones.chapters:\n",
    "    soup = BeautifulSoup(chapter.content, 'xml')\n",
    "    try:\n",
    "        if soup.h1.attrs['class'] == 'chapter0':\n",
    "            chapter_dict = {}\n",
    "            string = \"\"\n",
    "            for tag in soup('p', class_=['indent', 'nonindent']):\n",
    "                string += str(tag.get_text()) + ' '            \n",
    "            chapter_data = []\n",
    "            chapter_num = soup.h1.attrs['id']\n",
    "            chapter_data.append(chapter_num)\n",
    "            chapter_author = soup.h1.get_text()\n",
    "            chapter_data.append(chapter_author)\n",
    "            chapter_data.append(string)            \n",
    "            page_num = soup.a.attrs['id']\n",
    "            chapter_dict[page_num] = chapter_data\n",
    "            book_dict.update(chapter_dict)\n",
    "        else:\n",
    "            pass\n",
    "            \n",
    "    except Exception:\n",
    "        logging.exception('There has been an exception. Probably tried to load the front-or back-matter, which does not have attr tags.')\n",
    "        pass"
   ]
  },
  {
   "cell_type": "markdown",
   "metadata": {
    "collapsed": true
   },
   "source": [
    "**Book is slightly malformed in that it by default labels two chapters as \"c01\" so here I just re-label the prologue as \"c00\"**"
   ]
  },
  {
   "cell_type": "code",
   "execution_count": null,
   "metadata": {
    "collapsed": false,
    "scrolled": true
   },
   "outputs": [],
   "source": [
    "book_dict['page1'][0] = 'c00'"
   ]
  },
  {
   "cell_type": "markdown",
   "metadata": {},
   "source": [
    "**Create a dataframe and populate the fields with information about each chapter**"
   ]
  },
  {
   "cell_type": "code",
   "execution_count": null,
   "metadata": {
    "collapsed": false
   },
   "outputs": [],
   "source": [
    "df = pd.DataFrame()\n",
    "for page in book_dict:\n",
    "    page_no = page\n",
    "    chapter_no = book_dict[page][0]\n",
    "    author = book_dict[page][1]\n",
    "    text = book_dict[page][2]\n",
    "    tb = TextBlob(text)\n",
    "    chap_df = pd.DataFrame(tb.serialized)\n",
    "    chap_df['chapter'] = chapter_no\n",
    "    chap_df['author'] = author\n",
    "    df = pd.concat([df, chap_df])"
   ]
  },
  {
   "cell_type": "markdown",
   "metadata": {},
   "source": [
    "**Group the dataframe by chapter and run a cumulative summation of the polarity over each chapter.**"
   ]
  },
  {
   "cell_type": "code",
   "execution_count": null,
   "metadata": {
    "collapsed": false,
    "scrolled": true
   },
   "outputs": [],
   "source": [
    "df['chapter_cumsum'] = df.groupby(['chapter'])['polarity'].cumsum()"
   ]
  },
  {
   "cell_type": "markdown",
   "metadata": {},
   "source": [
    "### Which chapter would you like to examine?"
   ]
  },
  {
   "cell_type": "code",
   "execution_count": null,
   "metadata": {
    "collapsed": false
   },
   "outputs": [],
   "source": [
    "user_input = 0\n",
    "while True:\n",
    "    try:\n",
    "        user_input = int(input(\"Enter the number of the chapter you'd like to examine: \"))       \n",
    "    except ValueError:\n",
    "        print(\"Please give an integer instead.\")\n",
    "        continue\n",
    "    else:\n",
    "        print(\"Ok, thanks. I'll return a dataframe of information for chapter %s.\" %user_input)\n",
    "        break"
   ]
  },
  {
   "cell_type": "code",
   "execution_count": null,
   "metadata": {
    "collapsed": false
   },
   "outputs": [],
   "source": [
    "chapter_code = 'c' + str(user_input).zfill(2)"
   ]
  },
  {
   "cell_type": "code",
   "execution_count": null,
   "metadata": {
    "collapsed": true
   },
   "outputs": [],
   "source": [
    "df_chap = df[df.chapter == chapter_code]"
   ]
  },
  {
   "cell_type": "code",
   "execution_count": null,
   "metadata": {
    "collapsed": false,
    "scrolled": true
   },
   "outputs": [],
   "source": [
    "print('The most negative sentences are: ')\n",
    "print(df_chap[df_chap.polarity < -0.5][['polarity', 'raw']].values)\n",
    "print()\n",
    "print('The most positive sentences are: ')\n",
    "print(df_chap[df_chap.polarity > 0.5][['polarity', 'raw']].values)"
   ]
  },
  {
   "cell_type": "markdown",
   "metadata": {},
   "source": [
    "**Create a table of summary statistics. _Note that any sentence with a polarity of 0 has been excluded from the statistics!!_**"
   ]
  },
  {
   "cell_type": "code",
   "execution_count": null,
   "metadata": {
    "collapsed": false
   },
   "outputs": [],
   "source": [
    "df_chap[df_chap.polarity != 0.0].describe().round(2)"
   ]
  },
  {
   "cell_type": "markdown",
   "metadata": {},
   "source": [
    "**Create a plot of the cumulative sentiment polarity, show it inline in the notebook, and save copies as png and html**"
   ]
  },
  {
   "cell_type": "code",
   "execution_count": null,
   "metadata": {
    "collapsed": false
   },
   "outputs": [],
   "source": [
    "title = ' '.join(['Chapter', str(user_input), '-', df_chap.author.unique()[0],\n",
    "                  ':', 'cumulative senitment polarity'])\n",
    "png_name = chapter_code + '_' + df_chap.author.unique()[0] + '.png'\n",
    "html_name = chapter_code + '_' + df_chap.author.unique()[0] + '_embed.html'\n",
    "\n",
    "line = Line(df_chap['chapter_cumsum'], title=title, \n",
    "            ylabel='Cumulative senitment polarity', xlabel='Sentence number', title_text_font_size='18')\n",
    "show(line)\n",
    "save(line, png_name, title=title)\n",
    "html = file_html(line, CDN, html_name)\n",
    "\n",
    "with open(html_name, 'w') as f:\n",
    "    f.write(html)"
   ]
  },
  {
   "cell_type": "code",
   "execution_count": null,
   "metadata": {
    "collapsed": true
   },
   "outputs": [],
   "source": []
  },
  {
   "cell_type": "code",
   "execution_count": null,
   "metadata": {
    "collapsed": true
   },
   "outputs": [],
   "source": []
  },
  {
   "cell_type": "code",
   "execution_count": null,
   "metadata": {
    "collapsed": true
   },
   "outputs": [],
   "source": []
  },
  {
   "cell_type": "code",
   "execution_count": null,
   "metadata": {
    "collapsed": true
   },
   "outputs": [],
   "source": []
  },
  {
   "cell_type": "code",
   "execution_count": null,
   "metadata": {
    "collapsed": true
   },
   "outputs": [],
   "source": []
  },
  {
   "cell_type": "code",
   "execution_count": null,
   "metadata": {
    "collapsed": true
   },
   "outputs": [],
   "source": []
  },
  {
   "cell_type": "code",
   "execution_count": null,
   "metadata": {
    "collapsed": true
   },
   "outputs": [],
   "source": []
  },
  {
   "cell_type": "code",
   "execution_count": null,
   "metadata": {
    "collapsed": true
   },
   "outputs": [],
   "source": []
  }
 ],
 "metadata": {
  "kernelspec": {
   "display_name": "Python 3",
   "language": "python",
   "name": "python3"
  },
  "language_info": {
   "codemirror_mode": {
    "name": "ipython",
    "version": 3
   },
   "file_extension": ".py",
   "mimetype": "text/x-python",
   "name": "python",
   "nbconvert_exporter": "python",
   "pygments_lexer": "ipython3",
   "version": "3.5.0"
  }
 },
 "nbformat": 4,
 "nbformat_minor": 0
}
